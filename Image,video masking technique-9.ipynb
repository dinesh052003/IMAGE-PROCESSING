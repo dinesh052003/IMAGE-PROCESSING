{
 "cells": [
  {
   "cell_type": "code",
   "execution_count": 1,
   "id": "fb065241-1b67-4682-b850-e14ab9d59613",
   "metadata": {},
   "outputs": [],
   "source": [
    "import cv2 as cv\n",
    "import numpy as np\n",
    "import matplotlib.pyplot as plt"
   ]
  },
  {
   "cell_type": "markdown",
   "id": "2d43c2e5-d13d-44e7-bac9-16c0e67a7a20",
   "metadata": {},
   "source": [
    "Thresholding on Grayscale"
   ]
  },
  {
   "cell_type": "code",
   "execution_count": null,
   "id": "ea89f2d7-a183-47b9-bb18-0c812ea5d833",
   "metadata": {},
   "outputs": [],
   "source": [
    "cam = cv.VideoCapture(0)\n",
    "\n",
    "while True:\n",
    "    _ , img = cam.read()\n",
    "    img = cv.resize(img , (int(1280/2), int(720/2)))\n",
    "    img = cv.flip(img,1)\n",
    "    \n",
    "    gray = cv.cvtColor(img , cv.COLOR_BGR2GRAY)\n",
    "    \n",
    "    gray_thr_1 = gray.copy()\n",
    "    gray_thr_1[gray_thr_1 > 200] = 30        # Black Background Threshold\n",
    "    gray_thr_2 = gray.copy()\n",
    "    gray_thr_2[gray_thr_2 > 200] = 250         # White Background Threshold\n",
    "    \n",
    "    cv.imshow('Original',img)\n",
    "    cv.imshow('Gray',gray)\n",
    "    cv.imshow('Gray_Thr1',gray_thr_1)\n",
    "    cv.imshow('Gray_Thr2',gray_thr_2)  \n",
    "    if cv.waitKey(1) == 27:\n",
    "        cam.release()\n",
    "        break\n"
   ]
  },
  {
   "cell_type": "markdown",
   "id": "97c6d1af-478e-448c-8901-053de5f861bd",
   "metadata": {},
   "source": [
    "Color Masking on video"
   ]
  },
  {
   "cell_type": "code",
   "execution_count": null,
   "id": "d5ce6889-fd1b-4a4d-9b9e-37b03985c0a5",
   "metadata": {},
   "outputs": [],
   "source": [
    "camera = cv.VideoCapture(0)\n",
    "lower = np.array([0,0,0]) \n",
    "upper = np.array([60,60,60])\n",
    "while True:\n",
    "    _ , img = camera.read()\n",
    "    mask = cv.blur(img, (4,4)) #smoothened image kernel size =4x4\n",
    "    mask = cv.inRange(mask, lower, upper)\n",
    "    cv.imshow(\"Frame\" , img)\n",
    "    cv.imshow(\"Mask\",mask)\n",
    "    if (cv.waitKey(1) == 27):\n",
    "        camera.release()\n",
    "        break\n"
   ]
  },
  {
   "cell_type": "markdown",
   "id": "7268a94f-9364-451b-875b-6db9693803f2",
   "metadata": {},
   "source": [
    "\n",
    "Color Masking on Image"
   ]
  },
  {
   "cell_type": "code",
   "execution_count": 3,
   "id": "ddf9d3e0-cdf4-4fb3-89ef-47f5af6ff28e",
   "metadata": {},
   "outputs": [
    {
     "ename": "error",
     "evalue": "OpenCV(4.10.0) D:\\a\\opencv-python\\opencv-python\\opencv\\modules\\imgproc\\src\\box_filter.dispatch.cpp:446: error: (-215:Assertion failed) !_src.empty() in function 'cv::boxFilter'\n",
     "output_type": "error",
     "traceback": [
      "\u001b[1;31m---------------------------------------------------------------------------\u001b[0m",
      "\u001b[1;31merror\u001b[0m                                     Traceback (most recent call last)",
      "Cell \u001b[1;32mIn[3], line 5\u001b[0m\n\u001b[0;32m      2\u001b[0m upper \u001b[38;5;241m=\u001b[39m np\u001b[38;5;241m.\u001b[39marray([\u001b[38;5;241m50\u001b[39m,\u001b[38;5;241m50\u001b[39m,\u001b[38;5;241m50\u001b[39m])\n\u001b[0;32m      3\u001b[0m img \u001b[38;5;241m=\u001b[39m cv\u001b[38;5;241m.\u001b[39mimread(\u001b[38;5;124m'\u001b[39m\u001b[38;5;124mimg_5.png\u001b[39m\u001b[38;5;124m'\u001b[39m)\n\u001b[1;32m----> 5\u001b[0m mask \u001b[38;5;241m=\u001b[39m \u001b[43mcv\u001b[49m\u001b[38;5;241;43m.\u001b[39;49m\u001b[43mblur\u001b[49m\u001b[43m(\u001b[49m\u001b[43mimg\u001b[49m\u001b[43m,\u001b[49m\u001b[43m \u001b[49m\u001b[43m(\u001b[49m\u001b[38;5;241;43m2\u001b[39;49m\u001b[43m,\u001b[49m\u001b[38;5;241;43m2\u001b[39;49m\u001b[43m)\u001b[49m\u001b[43m)\u001b[49m\n\u001b[0;32m      6\u001b[0m mask \u001b[38;5;241m=\u001b[39m cv\u001b[38;5;241m.\u001b[39minRange(mask, lower, upper)\n\u001b[0;32m      7\u001b[0m cv\u001b[38;5;241m.\u001b[39mimshow(\u001b[38;5;124m\"\u001b[39m\u001b[38;5;124mFrame-1\u001b[39m\u001b[38;5;124m\"\u001b[39m,img)\n",
      "\u001b[1;31merror\u001b[0m: OpenCV(4.10.0) D:\\a\\opencv-python\\opencv-python\\opencv\\modules\\imgproc\\src\\box_filter.dispatch.cpp:446: error: (-215:Assertion failed) !_src.empty() in function 'cv::boxFilter'\n"
     ]
    }
   ],
   "source": [
    "lower = np.array([0,0,0])\n",
    "upper = np.array([50,50,50])\n",
    "img = cv.imread('img_5.png')\n",
    "\n",
    "mask = cv.blur(img, (2,2))\n",
    "mask = cv.inRange(mask, lower, upper)\n",
    "cv.imshow(\"Frame-1\",img)\n",
    "cv.imshow(\"Mask-1\",mask)\n",
    "cv.waitKey(0)\n"
   ]
  },
  {
   "cell_type": "code",
   "execution_count": 5,
   "id": "a1cc987f-bbbf-4930-b3f1-78e865db0b90",
   "metadata": {},
   "outputs": [
    {
     "ename": "error",
     "evalue": "OpenCV(4.10.0) D:\\a\\opencv-python\\opencv-python\\opencv\\modules\\imgproc\\src\\box_filter.dispatch.cpp:446: error: (-215:Assertion failed) !_src.empty() in function 'cv::boxFilter'\n",
     "output_type": "error",
     "traceback": [
      "\u001b[1;31m---------------------------------------------------------------------------\u001b[0m",
      "\u001b[1;31merror\u001b[0m                                     Traceback (most recent call last)",
      "Cell \u001b[1;32mIn[5], line 4\u001b[0m\n\u001b[0;32m      2\u001b[0m upper\u001b[38;5;241m=\u001b[39mnp\u001b[38;5;241m.\u001b[39marray([\u001b[38;5;241m50\u001b[39m,\u001b[38;5;241m50\u001b[39m,\u001b[38;5;241m50\u001b[39m])\n\u001b[0;32m      3\u001b[0m img\u001b[38;5;241m=\u001b[39mcv\u001b[38;5;241m.\u001b[39mimread(\u001b[38;5;124m'\u001b[39m\u001b[38;5;124mimg_5.png\u001b[39m\u001b[38;5;124m'\u001b[39m)\n\u001b[1;32m----> 4\u001b[0m mask\u001b[38;5;241m=\u001b[39m\u001b[43mcv\u001b[49m\u001b[38;5;241;43m.\u001b[39;49m\u001b[43mblur\u001b[49m\u001b[43m(\u001b[49m\u001b[43mimg\u001b[49m\u001b[43m,\u001b[49m\u001b[43m(\u001b[49m\u001b[38;5;241;43m2\u001b[39;49m\u001b[43m,\u001b[49m\u001b[38;5;241;43m2\u001b[39;49m\u001b[43m)\u001b[49m\u001b[43m)\u001b[49m\n\u001b[0;32m      5\u001b[0m mask\u001b[38;5;241m=\u001b[39mcv\u001b[38;5;241m.\u001b[39minRange(mask,lower,upper)\n\u001b[0;32m      6\u001b[0m cv\u001b[38;5;241m.\u001b[39mimshow(\u001b[38;5;124m\"\u001b[39m\u001b[38;5;124mFrame1\u001b[39m\u001b[38;5;124m\"\u001b[39m,img)\n",
      "\u001b[1;31merror\u001b[0m: OpenCV(4.10.0) D:\\a\\opencv-python\\opencv-python\\opencv\\modules\\imgproc\\src\\box_filter.dispatch.cpp:446: error: (-215:Assertion failed) !_src.empty() in function 'cv::boxFilter'\n"
     ]
    }
   ],
   "source": [
    "lower=np.array([0,150,100])\n",
    "upper=np.array([50,50,50])\n",
    "img=cv.imread('img_5.png')\n",
    "mask=cv.blur(img,(2,2))\n",
    "mask=cv.inRange(mask,lower,upper)\n",
    "cv.imshow(\"Frame1\",img)\n",
    "cv.imshow(\"Frame1\",mask)\n",
    "cv.waitkey(0)"
   ]
  },
  {
   "cell_type": "code",
   "execution_count": null,
   "id": "6b67fa22-9ed9-4fb2-892d-6a57627edba1",
   "metadata": {},
   "outputs": [],
   "source": []
  }
 ],
 "metadata": {
  "kernelspec": {
   "display_name": "Python 3 (ipykernel)",
   "language": "python",
   "name": "python3"
  },
  "language_info": {
   "codemirror_mode": {
    "name": "ipython",
    "version": 3
   },
   "file_extension": ".py",
   "mimetype": "text/x-python",
   "name": "python",
   "nbconvert_exporter": "python",
   "pygments_lexer": "ipython3",
   "version": "3.11.7"
  }
 },
 "nbformat": 4,
 "nbformat_minor": 5
}
