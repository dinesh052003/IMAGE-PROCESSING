{
 "cells": [
  {
   "cell_type": "code",
   "execution_count": 1,
   "id": "86b0a2f9-d178-4aef-9c1f-d167e9d97ed9",
   "metadata": {},
   "outputs": [],
   "source": [
    "import numpy as np\n",
    "import matplotlib.pyplot as plt\n",
    "import cv2 as cv"
   ]
  },
  {
   "cell_type": "markdown",
   "id": "26bd9bb9-77fe-432b-83de-56470bb29389",
   "metadata": {},
   "source": [
    "Working with Webcam"
   ]
  },
  {
   "cell_type": "code",
   "execution_count": null,
   "id": "d29b0115-8020-42ea-bf60-95584a3750c6",
   "metadata": {},
   "outputs": [],
   "source": [
    "cam=cv.VideoCapture(0) ##0 denotes inbuild camera\n",
    "while True:\n",
    "    _,img=cam.read()\n",
    "    cv.imshow(\"Frame\",img)\n",
    "    key=cv.waitKey(1000)  ##1000 also very struck when the camera opens u can use more\n",
    "    if (key==27):\n",
    "        cam.release()\n",
    "        break\n",
    "        "
   ]
  },
  {
   "cell_type": "markdown",
   "id": "d635e18c-1047-45a5-a545-8b31af122ce6",
   "metadata": {},
   "source": [
    "webcame-Crop and Flip"
   ]
  },
  {
   "cell_type": "code",
   "execution_count": null,
   "id": "19d4940a-4a60-4579-869f-a935c7fabe42",
   "metadata": {},
   "outputs": [],
   "source": [
    "cam=cv.VideoCapture(0) \n",
    "while True:\n",
    "    _,img=cam.read()\n",
    "    flip=cv.flip(img,0) ## reverse the image\n",
    "    cv.imshow(\"Frame\",img)\n",
    "    cv.imshow(\"Flipped\",flip)\n",
    "    \n",
    "    key=cv.waitKey(20)  \n",
    "    if (key==27):\n",
    "        cam.release()\n",
    "        break\n",
    "        "
   ]
  },
  {
   "cell_type": "markdown",
   "id": "2b6763e3-308e-4743-84f6-a7bf14d603a9",
   "metadata": {},
   "source": [
    "Cropping Image"
   ]
  },
  {
   "cell_type": "code",
   "execution_count": null,
   "id": "8326b9d2-c72e-4008-a86d-fe6569d38a28",
   "metadata": {},
   "outputs": [],
   "source": [
    "cam=cv.VideoCapture(0) \n",
    "while True:\n",
    "    _,img=cam.read()\n",
    "    img=cv.flip(img,1) \n",
    "    frame=img[100:500,:,:]\n",
    "    cv.imshow(\"Frame\",img)\n",
    "    cv.imshow(\"cropped\",frame)\n",
    "    \n",
    "    \n",
    "    key=cv.waitKey(20)  \n",
    "    if (key==27):\n",
    "        cam.release()\n",
    "        break\n",
    "        "
   ]
  },
  {
   "cell_type": "code",
   "execution_count": null,
   "id": "7aa3bd2e-34e5-47b3-80dc-e1c0d83e3493",
   "metadata": {},
   "outputs": [],
   "source": [
    "cam=cv.VideoCapture(0) \n",
    "while True:\n",
    "    _,img=cam.read()\n",
    "    img=cv.flip(img,1) \n",
    "    frame=img[100:500,400:500,:]\n",
    "    cv.imshow(\"Frame\",img)\n",
    "    cv.imshow(\"cropped\",frame)\n",
    "    \n",
    "    \n",
    "    key=cv.waitKey(20)  \n",
    "    if (key==27):\n",
    "        cam.release()\n",
    "        break\n",
    "        "
   ]
  },
  {
   "cell_type": "markdown",
   "id": "eaff073c-b30e-4f5d-8b4d-6bb07d4ee1e4",
   "metadata": {},
   "source": [
    "RGB Frame Extraction"
   ]
  },
  {
   "cell_type": "code",
   "execution_count": null,
   "id": "b1c73137-77fd-4aa9-9027-ac90e3941dc8",
   "metadata": {},
   "outputs": [],
   "source": [
    "cam=cv.VideoCapture(0) \n",
    "while True:\n",
    "    _,img=cam.read()\n",
    "    img=cv.flip(img,1) \n",
    "\n",
    "    hsv=cv.cvtColor(img,cv.COLOR_BGR2HSV)\n",
    "    \n",
    "    cv.imshow(\"Frame\",img)\n",
    "    cv.imshow(\"HSV\",hsv)\n",
    "    \n",
    "    \n",
    "    key=cv.waitKey(20)  \n",
    "    if (key==27):\n",
    "        cam.release()\n",
    "        break\n",
    "        "
   ]
  },
  {
   "cell_type": "code",
   "execution_count": null,
   "id": "8a5fa10b-b884-4b9a-87ad-cd5b770426a3",
   "metadata": {},
   "outputs": [],
   "source": [
    "cam=cv.VideoCapture(0) \n",
    "while True:\n",
    "    _,img=cam.read()\n",
    "    img=cv.flip(img,1) \n",
    "\n",
    "    hsv=cv.cvtColor(img,cv.COLOR_RGB2HSV)\n",
    "    \n",
    "    cv.imshow(\"Frame\",img)\n",
    "    cv.imshow(\"HSV\",hsv)\n",
    "    \n",
    "    \n",
    "    key=cv.waitKey(20)  \n",
    "    if (key==27):\n",
    "        cam.release()\n",
    "        break\n",
    "        "
   ]
  },
  {
   "cell_type": "code",
   "execution_count": null,
   "id": "4bb6f961-d10c-4ae9-be69-932601f93c16",
   "metadata": {},
   "outputs": [],
   "source": [
    "cam=cv.VideoCapture(0) \n",
    "while True:\n",
    "    _,img=cam.read()\n",
    "    img=cv.flip(img,1) \n",
    "    hsv=cv.cvtColor(img,cv.COLOR_RGB2HSV)\n",
    "\n",
    "    r=img[:,:,0]\n",
    "    g=img[:,:,1]\n",
    "    b=img[:,:,2]\n",
    "\n",
    "    h=hsv[:,:,0]\n",
    "    s=hsv[:,:,1]\n",
    "    v=hsv[:,:,2]\n",
    "\n",
    "    \n",
    "    \n",
    "    cv.imshow(\"Frame\",img)\n",
    "    cv.imshow(\"red\",r)\n",
    "    cv.imshow(\"green\",g)\n",
    "    cv.imshow(\"blue\",b)\n",
    "    \n",
    "    cv.imshow(\"HSV\",hsv)\n",
    "    cv.imshow(\"Hue\",h)\n",
    "    cv.imshow(\"saturation\",s)\n",
    "    cv.imshow(\"value\",v)\n",
    "    \n",
    "    \n",
    "    key=cv.waitKey(20)  \n",
    "    if (key==27):\n",
    "        cam.release()\n",
    "        break\n",
    "        "
   ]
  },
  {
   "cell_type": "code",
   "execution_count": null,
   "id": "5cb8314a-d969-4688-8f6d-529637b52803",
   "metadata": {},
   "outputs": [],
   "source": []
  }
 ],
 "metadata": {
  "kernelspec": {
   "display_name": "Python 3 (ipykernel)",
   "language": "python",
   "name": "python3"
  },
  "language_info": {
   "codemirror_mode": {
    "name": "ipython",
    "version": 3
   },
   "file_extension": ".py",
   "mimetype": "text/x-python",
   "name": "python",
   "nbconvert_exporter": "python",
   "pygments_lexer": "ipython3",
   "version": "3.11.7"
  }
 },
 "nbformat": 4,
 "nbformat_minor": 5
}
