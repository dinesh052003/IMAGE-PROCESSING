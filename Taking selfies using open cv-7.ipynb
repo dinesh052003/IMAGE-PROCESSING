{
 "cells": [
  {
   "cell_type": "code",
   "execution_count": 1,
   "id": "7f35f064-ad67-4e71-a240-148bbaaf1d5d",
   "metadata": {},
   "outputs": [],
   "source": [
    "import numpy as np\n",
    "import matplotlib.pyplot as plt\n",
    "import cv2 as cv"
   ]
  },
  {
   "cell_type": "markdown",
   "id": "f4fc284c-ae10-40f7-8a84-c51573dbad2b",
   "metadata": {},
   "source": [
    "Taking Selfies"
   ]
  },
  {
   "cell_type": "code",
   "execution_count": null,
   "id": "b790ffdb-ad5e-454d-8a7a-f77c5a31f066",
   "metadata": {},
   "outputs": [],
   "source": [
    "cam=cv.VideoCapture(0) \n",
    "while True:\n",
    "    _,img=cam.read()\n",
    "    img=cv.flip(img,1) \n",
    "    cv.imshow(\"Frame\",img)\n",
    "    \n",
    "    \n",
    "    key=cv.waitKey(20)  \n",
    "    if (key==27):\n",
    "        cam.release()\n",
    "        break\n",
    "    if (key==13):\n",
    "        cv.imwrite(\"selfie.png\",img)\n",
    "        cam.release()\n",
    "        break\n",
    "        "
   ]
  },
  {
   "cell_type": "code",
   "execution_count": null,
   "id": "66e7364f-2d01-4e26-a435-da82bb4c0d4d",
   "metadata": {},
   "outputs": [],
   "source": [
    "cam=cv.VideoCapture(0) \n",
    "while True:\n",
    "    _,img=cam.read()\n",
    "    img=cv.flip(img,1) \n",
    "    gray=cv.cvtColor(img,cv.COLOR_RGB2GRAY)\n",
    "    cv.imshow(\"Frame\",img)\n",
    "    \n",
    "    \n",
    "    key=cv.waitKey(20)  \n",
    "    if (key==27):\n",
    "        cam.release()\n",
    "        break\n",
    "    if (key==13):\n",
    "        cv.imwrite(\"selfie.png\",img)\n",
    "        cv.imwrite(\"selfie_Gray.png\",gray)\n",
    "        cam.release()\n",
    "        break\n",
    "        "
   ]
  },
  {
   "cell_type": "code",
   "execution_count": null,
   "id": "e61d3d48-0f5f-4bd6-b629-8f74167b5201",
   "metadata": {},
   "outputs": [],
   "source": [
    "cam=cv.VideoCapture(0) \n",
    "while True:\n",
    "    _,img=cam.read()\n",
    "    img=cv.flip(img,1) \n",
    "    \n",
    "    gray=cv.cvtColor(img,cv.COLOR_RGB2GRAY)\n",
    "    hsv=cv.cvtColor(img,cv.COLOR_RGB2HSV)\n",
    "    \n",
    "    cv.imshow(\"Frame\",img)\n",
    "    \n",
    "    \n",
    "    key=cv.waitKey(20)  \n",
    "    if (key==27):\n",
    "        cam.release()\n",
    "        break\n",
    "    if (key==13):\n",
    "        cv.imwrite(\"selfie.png\",img)\n",
    "        cv.imwrite(\"selfie_Gray.png\",gray)\n",
    "        cv.imwrite(\"Selfie_hsv.png\",hsv)\n",
    "        cam.release()\n",
    "        break\n",
    "        "
   ]
  },
  {
   "cell_type": "code",
   "execution_count": null,
   "id": "98b8d34f-a9ed-455f-bae8-53abd6dd8714",
   "metadata": {},
   "outputs": [],
   "source": [
    "cv.waitKey(0)  "
   ]
  },
  {
   "cell_type": "markdown",
   "id": "e346bbb9-467d-47c4-9d56-445bf3141cac",
   "metadata": {},
   "source": [
    "Taking Multiple selfies"
   ]
  },
  {
   "cell_type": "code",
   "execution_count": null,
   "id": "da11e7bf-3dba-41a2-b65a-69f7b30bcc3a",
   "metadata": {},
   "outputs": [],
   "source": [
    "cam=cv.VideoCapture(0) \n",
    "c=1\n",
    "while True:\n",
    "    _,img=cam.read()\n",
    "    img=cv.flip(img,1) \n",
    "    cv.imshow(\"Frame\",img)\n",
    "    \n",
    "    \n",
    "    key=cv.waitKey(20)  \n",
    "    if (key==13):                                          #click selfie if enter is pressed\n",
    "        cv.imwrite(\"selfie/selfie_\"+str(c)+\".png\",img)\n",
    "        c+=1\n",
    "        \n",
    "    if (key==27):                                  #Terminate the program if escape is pressed\n",
    "        cm.release()\n",
    "        break\n",
    "        "
   ]
  },
  {
   "cell_type": "code",
   "execution_count": null,
   "id": "1e9e8874-5de1-48d2-8295-328627c1696c",
   "metadata": {},
   "outputs": [],
   "source": []
  }
 ],
 "metadata": {
  "kernelspec": {
   "display_name": "Python 3 (ipykernel)",
   "language": "python",
   "name": "python3"
  },
  "language_info": {
   "codemirror_mode": {
    "name": "ipython",
    "version": 3
   },
   "file_extension": ".py",
   "mimetype": "text/x-python",
   "name": "python",
   "nbconvert_exporter": "python",
   "pygments_lexer": "ipython3",
   "version": "3.11.7"
  }
 },
 "nbformat": 4,
 "nbformat_minor": 5
}
