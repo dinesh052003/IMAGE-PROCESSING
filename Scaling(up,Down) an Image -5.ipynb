{
 "cells": [
  {
   "cell_type": "code",
   "execution_count": 1,
   "id": "4508a512-54f1-43f3-a939-bd15d0daf527",
   "metadata": {},
   "outputs": [],
   "source": [
    "import numpy as np\n",
    "import matplotlib.pyplot as plt\n",
    "import cv2 as cv"
   ]
  },
  {
   "cell_type": "markdown",
   "id": "b176030d-3eec-4ab4-bab9-1e3abb22555c",
   "metadata": {},
   "source": [
    "Image Scaling"
   ]
  },
  {
   "cell_type": "code",
   "execution_count": null,
   "id": "64423f87-d34d-494d-8558-a8e126908952",
   "metadata": {},
   "outputs": [],
   "source": [
    "cam=cv.VideoCapture(0)\n",
    "while True:\n",
    "    _,img=cam.read()\n",
    "    img=cv.flip(img,1)\n",
    "    resized=cv.resize(img,(640,360))\n",
    "    \n",
    "    cv.imshow(\"Orginal\",img)\n",
    "    cv.imshow(\"Resized\",resized)\n",
    "\n",
    "    \n",
    "    if cv.waitKey(10)==27:\n",
    "        cam.release()\n",
    "        break"
   ]
  },
  {
   "cell_type": "code",
   "execution_count": null,
   "id": "d66e824d-396a-4e2b-b640-71cdf2d9fa65",
   "metadata": {},
   "outputs": [],
   "source": [
    "cam=cv.VideoCapture(0)\n",
    "while True:\n",
    "    _,img=cam.read()\n",
    "    img=cv.flip(img,1)\n",
    "    \n",
    "    resized1=cv.resize(img,(int(img.shape[1]/2),int(img.shape[0]/2)))\n",
    "    resized2=cv.resize(img,(int(img.shape[1]/4),int(img.shape[0]/4)))\n",
    "    resized3=cv.resize(img,(int(img.shape[1]/6),int(img.shape[0]/6)))\n",
    "    resized4=cv.resize(img,(int(img.shape[1]/8),int(img.shape[0]/8)))\n",
    "    resized5=cv.resize(img,(int(img.shape[1]/16),int(img.shape[0]/16)))\n",
    "    \n",
    "    cv.imshow(\"Orginal\",img)\n",
    "    cv.imshow(\"Resized1\",resized1)\n",
    "    cv.imshow(\"Resized2\",resized2)\n",
    "    cv.imshow(\"Resized3\",resized3)\n",
    "    cv.imshow(\"Resized4\",resized4)\n",
    "    cv.imshow(\"Resized5\",resized5)\n",
    "\n",
    "    \n",
    "    if cv.waitKey(10)==27:\n",
    "        cam.release()\n",
    "        break"
   ]
  },
  {
   "cell_type": "code",
   "execution_count": 4,
   "id": "a7cc9d12-dd67-407d-b139-6da5136ae675",
   "metadata": {},
   "outputs": [],
   "source": [
    "cam.release()"
   ]
  },
  {
   "cell_type": "code",
   "execution_count": 3,
   "id": "ac5a3256-5d69-4560-92c6-43fe8328c150",
   "metadata": {},
   "outputs": [
    {
     "data": {
      "text/plain": [
       "480"
      ]
     },
     "execution_count": 3,
     "metadata": {},
     "output_type": "execute_result"
    }
   ],
   "source": [
    "img.shape[0]"
   ]
  },
  {
   "cell_type": "code",
   "execution_count": 4,
   "id": "844f4b2c-eb3a-48f9-b07e-19fd06e444c2",
   "metadata": {},
   "outputs": [
    {
     "data": {
      "text/plain": [
       "640"
      ]
     },
     "execution_count": 4,
     "metadata": {},
     "output_type": "execute_result"
    }
   ],
   "source": [
    "img.shape[1]"
   ]
  },
  {
   "cell_type": "code",
   "execution_count": 5,
   "id": "5d546b64-81eb-4ddd-a409-dc2e952f4e71",
   "metadata": {},
   "outputs": [
    {
     "data": {
      "text/plain": [
       "0.5625"
      ]
     },
     "execution_count": 5,
     "metadata": {},
     "output_type": "execute_result"
    }
   ],
   "source": [
    "720/1280"
   ]
  },
  {
   "cell_type": "code",
   "execution_count": 6,
   "id": "bc8fbbac-4f85-4a21-b27d-f05e5464b115",
   "metadata": {},
   "outputs": [
    {
     "data": {
      "text/plain": [
       "360.0"
      ]
     },
     "execution_count": 6,
     "metadata": {},
     "output_type": "execute_result"
    }
   ],
   "source": [
    "720/2"
   ]
  },
  {
   "cell_type": "code",
   "execution_count": 7,
   "id": "3c8e6fef-9037-402a-8635-58a8fb32e59c",
   "metadata": {},
   "outputs": [
    {
     "data": {
      "text/plain": [
       "640.0"
      ]
     },
     "execution_count": 7,
     "metadata": {},
     "output_type": "execute_result"
    }
   ],
   "source": [
    "1280/2"
   ]
  },
  {
   "cell_type": "markdown",
   "id": "4fabe13b-fc72-45b7-9a5a-cb1390f13a11",
   "metadata": {},
   "source": [
    "DownScale and UpScale"
   ]
  },
  {
   "cell_type": "code",
   "execution_count": null,
   "id": "70cf877b-18d6-43ab-b5db-b48b74c9b561",
   "metadata": {},
   "outputs": [],
   "source": [
    "cam=cv.VideoCapture(0)\n",
    "while True:\n",
    "    _,img=cam.read()\n",
    "    img=cv.flip(img,1)\n",
    "    \n",
    "    resized1=cv.resize(img,(int(img.shape[1]/2),int(img.shape[0]/2)))\n",
    "    resized2=cv.resize(resized1,(int(resized1.shape[1]*4),int(resized1.shape[0]*4)))\n",
    " \n",
    "    \n",
    "    cv.imshow(\"Orginal\",img)\n",
    "    cv.imshow(\"Resized1\",resized1)\n",
    "    cv.imshow(\"Upscaled\",resized2)\n",
    "\n",
    "\n",
    "    \n",
    "    if cv.waitKey(10)==27:\n",
    "        cam.release()\n",
    "        break"
   ]
  },
  {
   "cell_type": "code",
   "execution_count": null,
   "id": "838709ed-8beb-4600-9b1b-373741152f08",
   "metadata": {},
   "outputs": [],
   "source": []
  }
 ],
 "metadata": {
  "kernelspec": {
   "display_name": "Python 3 (ipykernel)",
   "language": "python",
   "name": "python3"
  },
  "language_info": {
   "codemirror_mode": {
    "name": "ipython",
    "version": 3
   },
   "file_extension": ".py",
   "mimetype": "text/x-python",
   "name": "python",
   "nbconvert_exporter": "python",
   "pygments_lexer": "ipython3",
   "version": "3.11.7"
  }
 },
 "nbformat": 4,
 "nbformat_minor": 5
}
