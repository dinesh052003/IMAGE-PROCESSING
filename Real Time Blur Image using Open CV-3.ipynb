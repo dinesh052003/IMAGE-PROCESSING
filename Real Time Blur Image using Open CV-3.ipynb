{
 "cells": [
  {
   "cell_type": "code",
   "execution_count": 1,
   "id": "77658c02-15db-45ee-823c-b66fa92de294",
   "metadata": {},
   "outputs": [],
   "source": [
    "import numpy as np\n",
    "import matplotlib.pyplot as plt\n",
    "import cv2 as cv"
   ]
  },
  {
   "cell_type": "markdown",
   "id": "acb2dfcc-4076-4fcf-8130-d0de4494e0eb",
   "metadata": {},
   "source": [
    "REAL TIME BLUR"
   ]
  },
  {
   "cell_type": "code",
   "execution_count": null,
   "id": "4c3b939a-f47b-4393-b883-62829ceac82c",
   "metadata": {},
   "outputs": [],
   "source": [
    "cam=cv.VideoCapture(0)\n",
    "while True:\n",
    "    _,img=cam.read()\n",
    "    img=cv.flip(img,1)\n",
    "    blr1=cv.blur(img,(2,2))\n",
    "    blr2=cv.blur(img,(4,4))\n",
    "    blr3=cv.blur(img,(8,8))\n",
    "    blr4=cv.blur(img,(16,16))\n",
    "    blr5=cv.blur(img,(32,32))\n",
    "\n",
    "    \n",
    "    cv.imshow(\"Frame\",img)\n",
    "    cv.imshow(\"Blur1\",blr1)\n",
    "    cv.imshow(\"Blur2\",blr2)\n",
    "    cv.imshow(\"Blur3\",blr3)\n",
    "    cv.imshow(\"Blur4\",blr4)\n",
    "    cv.imshow(\"Blur5\",blr5)\n",
    "    \n",
    "    if cv.waitKey(10)==27:\n",
    "        cam.release()\n",
    "        break"
   ]
  },
  {
   "cell_type": "code",
   "execution_count": null,
   "id": "c6054aba-c967-4442-bfa3-33662f692d10",
   "metadata": {},
   "outputs": [],
   "source": [
    "cam.release()"
   ]
  },
  {
   "cell_type": "code",
   "execution_count": null,
   "id": "6db74650-caea-4926-ab89-b79e0b65ba65",
   "metadata": {},
   "outputs": [],
   "source": [
    "img.shape()"
   ]
  },
  {
   "cell_type": "code",
   "execution_count": null,
   "id": "4c40ba07-c974-4d30-83e6-ab559934df96",
   "metadata": {},
   "outputs": [],
   "source": []
  }
 ],
 "metadata": {
  "kernelspec": {
   "display_name": "Python 3 (ipykernel)",
   "language": "python",
   "name": "python3"
  },
  "language_info": {
   "codemirror_mode": {
    "name": "ipython",
    "version": 3
   },
   "file_extension": ".py",
   "mimetype": "text/x-python",
   "name": "python",
   "nbconvert_exporter": "python",
   "pygments_lexer": "ipython3",
   "version": "3.11.7"
  }
 },
 "nbformat": 4,
 "nbformat_minor": 5
}
