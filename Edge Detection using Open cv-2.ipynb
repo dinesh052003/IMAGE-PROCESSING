{
 "cells": [
  {
   "cell_type": "code",
   "execution_count": 1,
   "id": "0e248c68-e0c8-4c87-a6ea-6ec2d1edc93f",
   "metadata": {},
   "outputs": [],
   "source": [
    "import numpy as np\n",
    "import pandas as pd\n",
    "import matplotlib.pyplot as plt\n",
    "import cv2 as cv"
   ]
  },
  {
   "cell_type": "markdown",
   "id": "538b56c1-589b-42b6-902b-89aea491640a",
   "metadata": {},
   "source": [
    "##EDGE DETECTION\n"
   ]
  },
  {
   "cell_type": "code",
   "execution_count": null,
   "id": "8b6f57d4-0c0e-4f15-b896-4c35c5f5c602",
   "metadata": {},
   "outputs": [],
   "source": [
    "cam=cv.VideoCapture(0)\n",
    "while True:\n",
    "    _,img=cam.read()\n",
    "    img=cv.flip(img,1)\n",
    "\n",
    "    edge=cv.Canny(img,100,200)\n",
    "    cv.imshow(\"Frame\",img)\n",
    "    cv.imshow(\"Edges\",edge)\n",
    "    \n",
    "    if cv.waitKey(10)==27:\n",
    "        cam.release()\n",
    "        break"
   ]
  },
  {
   "cell_type": "code",
   "execution_count": null,
   "id": "f4168625-2cf0-4199-b544-92b755024661",
   "metadata": {},
   "outputs": [],
   "source": [
    "cam=cv.VideoCapture(0)\n",
    "while True:\n",
    "    _,img=cam.read()\n",
    "    img=cv.flip(img,1)\n",
    "\n",
    "    edge1=cv.Canny(img,0,50)\n",
    "    edge2=cv.Canny(img,50,100)\n",
    "    edge3=cv.Canny(img,100,150)\n",
    "    edge4=cv.Canny(img,150,200)\n",
    "    edge5=cv.Canny(img,200,250)\n",
    "    edge6=cv.Canny(img,250,300)\n",
    "\n",
    "    \n",
    "    cv.imshow(\"Frame\",img)\n",
    "    cv.imshow(\"Edges1\",edge1)\n",
    "    cv.imshow(\"Edges2\",edge2)\n",
    "    cv.imshow(\"Edges3\",edge3)\n",
    "    cv.imshow(\"Edges4\",edge4)\n",
    "    cv.imshow(\"Edges5\",edge5)\n",
    "    cv.imshow(\"Edges6\",edge6)\n",
    "    \n",
    "    if cv.waitKey(10)==27:\n",
    "        cam.release()\n",
    "        break"
   ]
  },
  {
   "cell_type": "code",
   "execution_count": null,
   "id": "3318d21d-f407-4878-bc08-07b3fecb60b7",
   "metadata": {},
   "outputs": [],
   "source": [
    "cam.release()"
   ]
  }
 ],
 "metadata": {
  "kernelspec": {
   "display_name": "Python 3 (ipykernel)",
   "language": "python",
   "name": "python3"
  },
  "language_info": {
   "codemirror_mode": {
    "name": "ipython",
    "version": 3
   },
   "file_extension": ".py",
   "mimetype": "text/x-python",
   "name": "python",
   "nbconvert_exporter": "python",
   "pygments_lexer": "ipython3",
   "version": "3.11.7"
  }
 },
 "nbformat": 4,
 "nbformat_minor": 5
}
