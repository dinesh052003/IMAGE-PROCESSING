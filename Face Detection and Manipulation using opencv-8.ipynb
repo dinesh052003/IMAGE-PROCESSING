{
 "cells": [
  {
   "cell_type": "code",
   "execution_count": null,
   "id": "bd9eaf64-7d39-45e7-a762-3c12e5a33595",
   "metadata": {},
   "outputs": [],
   "source": [
    "import cv2 as cv\n",
    "import numpy as np"
   ]
  },
  {
   "cell_type": "markdown",
   "id": "4a04c4d1-d483-44a5-b7d6-aeaca98870b4",
   "metadata": {},
   "source": [
    "Face Detection Using Live webcame"
   ]
  },
  {
   "cell_type": "code",
   "execution_count": null,
   "id": "e8bc0044-c28c-4f68-901c-babaa90a73b1",
   "metadata": {},
   "outputs": [],
   "source": [
    "classifier = cv.CascadeClassifier('haarcascade_frontalface_default.xml')\n",
    "\n",
    "cam = cv.VideoCapture(0)\n",
    "\n",
    "while True:\n",
    "    \n",
    "    _, img = cam.read()\n",
    "    img = cv.flip(img,1)\n",
    "    \n",
    "    \n",
    "    try:\n",
    "        faces = classifier.detectMultiScale(img, 1.1, 5) #(source,scaling_factor,min_neighbours)\n",
    "        for (x,y,w,h) in faces:\n",
    "            cv.rectangle(img, (x,y),(x+w,y+h) , (0,180,0), 2) #(source,coordinates,colour,thickness) rectangle\n",
    "    except:\n",
    "        pass\n",
    "    \n",
    "    \n",
    "    cv.imshow('Frame'  , img )\n",
    "    \n",
    "    if cv.waitKey(1) == 27:\n",
    "        cam.release()\n",
    "        break\n"
   ]
  },
  {
   "cell_type": "markdown",
   "id": "3ac8030e-e9f0-4e93-acad-c2608f0b2e94",
   "metadata": {},
   "source": [
    "Cropping The Face using Opencv"
   ]
  },
  {
   "cell_type": "code",
   "execution_count": null,
   "id": "bab6a7cd-dccd-450f-aad6-67ff422d707c",
   "metadata": {},
   "outputs": [],
   "source": [
    "classifier = cv.CascadeClassifier('haarcascade_frontalface_default.xml')\n",
    "\n",
    "cam = cv.VideoCapture(0)\n",
    "\n",
    "while True:\n",
    "    \n",
    "    _, img = cam.read()\n",
    "    img = cv.flip(img,1)\n",
    "    \n",
    "    faces = classifier.detectMultiScale(img, 1.1, 5)\n",
    "    \n",
    "    for f in faces:                             # Going through Each Face Detected\n",
    "        if f[-1] == max(faces[:,-1]):           # Finding the Face with Maximum Area\n",
    "            break \n",
    "\n",
    "    if (len(faces) >= 1):                       # Drawing Rectange on the Face\n",
    "        x = f[0] \n",
    "        y = f[1] \n",
    "        w = f[2]\n",
    "        h = f[3]\n",
    "\n",
    "        cv.rectangle(img, (x,y),(x+w,y+h) , (0,180,0), 2)   \n",
    "        face = img[y:y+h, x:x+w]\n",
    "        \n",
    "        face = cv.resize(face, (256,256))\n",
    "\n",
    "    cv.imshow('Frame'  , img )\n",
    "    cv.imshow('Face'   , face)\n",
    "    \n",
    "    if cv.waitKey(1) == 27:\n",
    "        cam.release()\n",
    "        break\n"
   ]
  },
  {
   "cell_type": "code",
   "execution_count": null,
   "id": "b2337639-b507-40df-b4e9-bef4354afc19",
   "metadata": {},
   "outputs": [],
   "source": [
    "list(face)"
   ]
  },
  {
   "cell_type": "code",
   "execution_count": null,
   "id": "88ae06fb-a65b-4e76-bd34-8d6d25f66785",
   "metadata": {},
   "outputs": [],
   "source": [
    "for face in faces:\n",
    "    if face[-1]==max[faces[:,-1]):\n",
    "    break"
   ]
  },
  {
   "cell_type": "code",
   "execution_count": null,
   "id": "0a91edc4-13f5-4a87-b524-80d4b261d378",
   "metadata": {},
   "outputs": [],
   "source": [
    "img[x:x+w,y:y+h].shape"
   ]
  },
  {
   "cell_type": "code",
   "execution_count": null,
   "id": "ba8951c8-7a07-412e-a142-616fb5efba1a",
   "metadata": {},
   "outputs": [],
   "source": [
    "max(faces[:,-1]"
   ]
  },
  {
   "cell_type": "code",
   "execution_count": null,
   "id": "d3628876-524b-4e55-99a2-3cee883aa597",
   "metadata": {},
   "outputs": [],
   "source": [
    "for face in faces:\n",
    "    if face[-1]==max[faces[:,-1]):\n",
    "    print(list(face))"
   ]
  },
  {
   "cell_type": "code",
   "execution_count": null,
   "id": "b5d9be23-2730-42a1-9d22-c944369ea5a1",
   "metadata": {},
   "outputs": [],
   "source": []
  },
  {
   "cell_type": "code",
   "execution_count": null,
   "id": "06f53b67-7078-4048-a09b-d26f4b5d3e41",
   "metadata": {},
   "outputs": [],
   "source": []
  },
  {
   "cell_type": "code",
   "execution_count": null,
   "id": "378b8b93-1c87-4bc3-b52e-2bad83b533f2",
   "metadata": {},
   "outputs": [],
   "source": []
  },
  {
   "cell_type": "markdown",
   "id": "559e2921-8696-4f02-84fd-4912860d595b",
   "metadata": {},
   "source": [
    "Face Blur Using OpenCv"
   ]
  },
  {
   "cell_type": "code",
   "execution_count": null,
   "id": "88b8a85d-8ecf-4917-a434-2a088ebaee40",
   "metadata": {},
   "outputs": [],
   "source": [
    "classifier = cv.CascadeClassifier('haarcascade_frontalface_default.xml')\n",
    "\n",
    "cam = cv.VideoCapture(0)\n",
    "while True:\n",
    "    \n",
    "    _, img = cam.read()\n",
    "    img = cv.flip(img,1)\n",
    "    faces = classifier.detectMultiScale(img, 1.1, 5)\n",
    "    \n",
    "    for f in faces:\n",
    "        if f[-1] == max(faces[:,-1]):\n",
    "            break\n",
    "\n",
    "    if (len(faces) >= 1):\n",
    "        x = f[0] \n",
    "        y = f[1] \n",
    "        w = f[2]\n",
    "        h = f[3]\n",
    "\n",
    "        face = img[y:y+h, x:x+w]    #Getting the Face Area from Video Feed\n",
    "        face = cv.blur(face, (32,32))    # Applying Blur on the Face\n",
    "        img[y:y+h, x:x+w] = face         # Apply Blured Face on Video Feed\n",
    "        \n",
    "    cv.imshow('Frame'  , img )\n",
    "    cv.imshow('Face'   , face)\n",
    "    if cv.waitKey(1) == 27:\n",
    "        cam.release()\n",
    "        break\n"
   ]
  },
  {
   "cell_type": "markdown",
   "id": "2b8467b1-466d-42f5-8843-5030449bc09e",
   "metadata": {},
   "source": [
    "Circle and Face Detectiion"
   ]
  },
  {
   "cell_type": "code",
   "execution_count": null,
   "id": "c1cf13de-ec23-449d-bb39-32d739b080b2",
   "metadata": {},
   "outputs": [],
   "source": [
    "import cv2 as cv\n",
    "import numpy as np\n",
    "\n",
    "classifier = cv.CascadeClassifier('haarcascade_frontalface_default.xml')\n",
    "cam = cv.VideoCapture(0)\n",
    "\n",
    "while True:\n",
    "    \n",
    "    _, img = cam.read()\n",
    "    img = cv.flip(img,1)\n",
    "    \n",
    "    faces = classifier.detectMultiScale(img, 1.1, 5)\n",
    "    \n",
    "    for f in faces:\n",
    "        if f[-1] == max(faces[:,-1]):\n",
    "            break\n",
    "\n",
    "    x = f[0] \n",
    "    y = f[1] \n",
    "    w = f[2]\n",
    "    h = f[3]\n",
    "    \n",
    "    circle_x = x + int(w/2)\n",
    "    circle_y = y + int(h/2)\n",
    "    \n",
    "    cv.circle(img, (circle_x, circle_y), int(w/1.7), (110,180,68),1)\n",
    "\n",
    "    cv.imshow('Frame'  , img )\n",
    "    \n",
    "    if cv.waitKey(1) == 27:\n",
    "        cam.release()\n",
    "        break\n"
   ]
  },
  {
   "cell_type": "markdown",
   "id": "2be62e24-9b8f-46e7-8495-70cfa09f33d7",
   "metadata": {},
   "source": [
    "Extracting Faces from an Image"
   ]
  },
  {
   "cell_type": "code",
   "execution_count": null,
   "id": "6546511c-fa62-4622-90f0-f64a62072789",
   "metadata": {},
   "outputs": [],
   "source": [
    "import os\n",
    "import cv2 as cv\n",
    "import numpy as np\n",
    "\n",
    "\n",
    "img = cv.imread('group.png')\n",
    "\n",
    "classifier = cv.CascadeClassifier('haarcascade_frontalface_default.xml')\n",
    "faces = classifier.detectMultiScale(img, 1.1, 5)\n",
    "\n",
    "\n",
    "def save(frame, folder_name): \n",
    "    name_img = len(os.listdir(folder_name)) + 1\n",
    "    name_img = folder_name + \"/IMG_\" + str(name_img)+'.png'#Dynamic Naming\n",
    "    cv.imwrite(name_img, frame) #Saving\n",
    "    print(name_img ,'is exported')\n",
    "\n",
    "\n",
    "for (x,y,w,h) in faces:\n",
    "\n",
    "    face = img[y:y+h, x:x+w]\n",
    "    cv.imshow('Face'   , face)\n",
    "    \n",
    "    \n",
    "    if cv.waitKey(0) == 13:         # Save the Image | 13  = Enter Key\n",
    "        save(face, 'People')\n",
    "    \n",
    "    elif cv.waitKey(0) == 127:      # Skip the Image | 127 = Delete Key\n",
    "        pass\n"
   ]
  }
 ],
 "metadata": {
  "kernelspec": {
   "display_name": "Python 3 (ipykernel)",
   "language": "python",
   "name": "python3"
  },
  "language_info": {
   "codemirror_mode": {
    "name": "ipython",
    "version": 3
   },
   "file_extension": ".py",
   "mimetype": "text/x-python",
   "name": "python",
   "nbconvert_exporter": "python",
   "pygments_lexer": "ipython3",
   "version": "3.11.7"
  }
 },
 "nbformat": 4,
 "nbformat_minor": 5
}
