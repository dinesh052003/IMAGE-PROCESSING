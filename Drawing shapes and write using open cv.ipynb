{
 "cells": [
  {
   "cell_type": "code",
   "execution_count": 1,
   "id": "69b20919-144e-42f2-b09a-6c0eb4a8f791",
   "metadata": {},
   "outputs": [
    {
     "name": "stdout",
     "output_type": "stream",
     "text": [
      "Requirement already satisfied: opencv-python in c:\\users\\dinesh\\anaconda3\\lib\\site-packages (4.10.0.84)\n",
      "Requirement already satisfied: numpy>=1.21.2 in c:\\users\\dinesh\\anaconda3\\lib\\site-packages (from opencv-python) (1.26.4)\n"
     ]
    }
   ],
   "source": [
    "import numpy as np\n",
    "import pandas as pd\n",
    "import matplotlib.pyplot as plt\n",
    "! pip install opencv-python\n",
    "import cv2 as cv\n",
    "\n"
   ]
  },
  {
   "cell_type": "markdown",
   "id": "e68b4380-8c3d-4cdb-905c-637eac94d943",
   "metadata": {},
   "source": [
    "\n",
    "##Drawing Rectangle"
   ]
  },
  {
   "cell_type": "code",
   "execution_count": null,
   "id": "3f4a830f-bcef-4a20-8023-e8a126551b9e",
   "metadata": {},
   "outputs": [],
   "source": [
    "cam=cv.VideoCapture(0)\n",
    "while True:\n",
    "  _, img=cam.read()\n",
    "  img=cv.flip(img,1)\n",
    "  image=cv.rectangle(img,(600,100),(400,800),(255,255,255),5)\n",
    "  image=cv.rectangle(img,(650,100),(200,800),(255,255,255),5)\n",
    "\n",
    "  image=cv.circle(img,(650,100),(200,800),(255,255,255),5)\n",
    "  cv.imshow(\"Frame\",img)\n",
    "  key=cv.waitKey(10)\n",
    "  if (key==27):\n",
    "    cam.release()\n",
    "    break"
   ]
  },
  {
   "cell_type": "markdown",
   "id": "4adc86ae-2e1f-447e-9cd7-917c8823ad56",
   "metadata": {},
   "source": [
    "##Drawing circe"
   ]
  },
  {
   "cell_type": "markdown",
   "id": "67a72ad7-7bbd-4e94-8eb2-7fbcda3a567d",
   "metadata": {},
   "source": [
    "##image=cv.circle(img,(60,100),200,(255,255,255),45)##here if u change values the circle raddius ,size will change"
   ]
  },
  {
   "cell_type": "code",
   "execution_count": null,
   "id": "5d3d279f-f9ef-4474-b5eb-b222c551f3c9",
   "metadata": {},
   "outputs": [],
   "source": [
    "cam=cv.VideoCapture(0)\n",
    "while True:\n",
    "  _, img=cam.read()\n",
    "  img=cv.flip(img,1)\n",
    "  image=cv.circle(img,(640,350),650,(255,255,255),200)\n",
    "  cv.imshow(\"Frame\",img)\n",
    "  key=cv.waitKey(10)\n",
    "  if (key==27):\n",
    "    cam.release()\n",
    "    break"
   ]
  },
  {
   "cell_type": "markdown",
   "id": "aa7a5264-6b22-4a08-aee8-5be06579e5f7",
   "metadata": {},
   "source": [
    "Writing Text"
   ]
  },
  {
   "cell_type": "code",
   "execution_count": 3,
   "id": "cb5087f5-0761-41b1-96c2-af1a25c89408",
   "metadata": {},
   "outputs": [
    {
     "data": {
      "text/plain": [
       "(480, 640, 3)"
      ]
     },
     "execution_count": 3,
     "metadata": {},
     "output_type": "execute_result"
    }
   ],
   "source": [
    "image.shape"
   ]
  },
  {
   "cell_type": "code",
   "execution_count": null,
   "id": "1454d850-ee7e-4c5f-a421-ade26add4f40",
   "metadata": {},
   "outputs": [],
   "source": [
    "cam=cv.VideoCapture(0)\n",
    "while True:\n",
    "  _, img=cam.read()\n",
    "  img=cv.flip(img,1)\n",
    "  image=cv.putText(img,'DINESH',(60,50),cv.FONT_HERSHEY_PLAIN,5,(160,67,93),5)\n",
    "  cv.imshow(\"Frame\",img)\n",
    "  key=cv.waitKey(10)\n",
    "  if (key==27):\n",
    "    cam.release()\n",
    "    break"
   ]
  },
  {
   "cell_type": "code",
   "execution_count": null,
   "id": "f168831d-5859-4675-817b-3d3b7ad2d98f",
   "metadata": {},
   "outputs": [],
   "source": []
  }
 ],
 "metadata": {
  "kernelspec": {
   "display_name": "Python 3 (ipykernel)",
   "language": "python",
   "name": "python3"
  },
  "language_info": {
   "codemirror_mode": {
    "name": "ipython",
    "version": 3
   },
   "file_extension": ".py",
   "mimetype": "text/x-python",
   "name": "python",
   "nbconvert_exporter": "python",
   "pygments_lexer": "ipython3",
   "version": "3.11.7"
  }
 },
 "nbformat": 4,
 "nbformat_minor": 5
}
