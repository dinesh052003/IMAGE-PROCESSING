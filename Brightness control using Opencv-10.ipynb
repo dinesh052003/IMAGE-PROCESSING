{
 "cells": [
  {
   "cell_type": "code",
   "execution_count": 2,
   "id": "4350e8b9-2741-476c-9698-b6750a8adcdc",
   "metadata": {},
   "outputs": [],
   "source": [
    "import numpy as np\n",
    "import pandas as pd\n",
    "import matplotlib.pyplot as plt\n",
    "import cv2 as cv"
   ]
  },
  {
   "cell_type": "markdown",
   "id": "51f8471f-9ddf-4e5a-ac79-176a45a878cc",
   "metadata": {},
   "source": [
    "Code to increase brightness"
   ]
  },
  {
   "cell_type": "code",
   "execution_count": null,
   "id": "88615be3-af0b-4d8c-997f-3254ed9d7ef9",
   "metadata": {},
   "outputs": [],
   "source": [
    "pixels = float(10)\n",
    "\n",
    "cam = cv.VideoCapture(0)\n",
    "\n",
    "while True:\n",
    "    \n",
    "    _, img = cam.read()\n",
    "    img = cv.flip(img, 1)\n",
    "    \n",
    "    img_1 = img + pixels\n",
    "    img_1[img_1 <  0 ] = 0     #For negative values\n",
    "    img_1[img_1 > 255] = 255   # For values > 255\n",
    "    img_1 = img_1.astype(np.uint8)\t#Keeping the type of image same as og\n",
    "    \n",
    "    img_2 = img + (2*pixels) \t#2x brighter than img_1\n",
    "    img_2[img_2 <  0 ] = 0\n",
    "    img_2[img_2 > 255] = 255\n",
    "    img_2 = img_2.astype(np.uint8)\n",
    "    \n",
    "    img_3 = img + (3*pixels) \t#3x than img_1\n",
    "    img_3[img_3 <  0 ] = 0\n",
    "    img_3[img_3 > 255] = 255\n",
    "    img_3 = img_3.astype(np.uint8)\n",
    "    \n",
    "    \n",
    "    cv.imshow(\"Original\",img)\n",
    "    cv.imshow(\"Filter-1\",img_1)\n",
    "    cv.imshow(\"Filter-2\",img_2)\n",
    "    cv.imshow(\"Filter-3\",img_3)\n",
    "    \n",
    "    if cv.waitKey(1) == 27:\n",
    "        cam.release()\n",
    "        break\n"
   ]
  },
  {
   "cell_type": "markdown",
   "id": "2bdf376b-3958-48b2-9284-8a6c42b706d2",
   "metadata": {},
   "source": [
    "Code to reduce brightness"
   ]
  },
  {
   "cell_type": "code",
   "execution_count": null,
   "id": "49a43da0-56d1-4b8f-8db2-c59277eeeefe",
   "metadata": {},
   "outputs": [],
   "source": [
    "pixels = float(10)\n",
    "\n",
    "cam = cv.VideoCapture(0)\n",
    "\n",
    "while True:\n",
    "    \n",
    "    _, img = cam.read()\n",
    "    img = cv.flip(img, 1)\n",
    "    \n",
    "    img_1 = img - pixels\n",
    "    img_1[img_1 <  0 ] = 0\n",
    "    img_1[img_1 > 255] = 255\n",
    "    img_1 = img_1.astype(np.uint8)\n",
    "    \n",
    "    img_2 = img - (2*pixels)\n",
    "    img_2[img_2 <  0 ] = 0\n",
    "    img_2[img_2 > 255] = 255\n",
    "    img_2 = img_2.astype(np.uint8)\n",
    "    \n",
    "    img_3 = img - (3*pixels)\n",
    "    img_3[img_3 <  0 ] = 0\n",
    "    img_3[img_3 > 255] = 255\n",
    "    img_3 = img_3.astype(np.uint8)\n",
    "    \n",
    "    \n",
    "    cv.imshow(\"Original\",img)\n",
    "    cv.imshow(\"Filter-1\",img_1)\n",
    "    cv.imshow(\"Filter-2\",img_2)\n",
    "    cv.imshow(\"Filter-3\",img_3)\n",
    "    \n",
    "    if cv.waitKey(1) == 27:\n",
    "        cam.release()\n",
    "        break\n"
   ]
  },
  {
   "cell_type": "code",
   "execution_count": null,
   "id": "b02f0207-13cc-440b-8545-36de35df527b",
   "metadata": {},
   "outputs": [],
   "source": []
  }
 ],
 "metadata": {
  "kernelspec": {
   "display_name": "Python 3 (ipykernel)",
   "language": "python",
   "name": "python3"
  },
  "language_info": {
   "codemirror_mode": {
    "name": "ipython",
    "version": 3
   },
   "file_extension": ".py",
   "mimetype": "text/x-python",
   "name": "python",
   "nbconvert_exporter": "python",
   "pygments_lexer": "ipython3",
   "version": "3.11.7"
  }
 },
 "nbformat": 4,
 "nbformat_minor": 5
}
